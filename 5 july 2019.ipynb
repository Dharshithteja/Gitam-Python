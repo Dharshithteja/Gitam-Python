{
 "cells": [
  {
   "cell_type": "markdown",
   "metadata": {},
   "source": [
    "# Markdown\n",
    "## Markdown\n",
    "### Markdown\n",
    "#### Markdown\n"
   ]
  },
  {
   "cell_type": "markdown",
   "metadata": {},
   "source": [
    "* **point1** (Bold)\n",
    "* *point2* (Itallic)\n",
    "* ***point3*** (Bold and itallic)\n"
   ]
  },
  {
   "cell_type": "markdown",
   "metadata": {},
   "source": [
    "* Normal Text\n",
    "    *subtitle 1\n",
    "    *subtitle 2"
   ]
  },
  {
   "cell_type": "markdown",
   "metadata": {},
   "source": [
    "> 1.point1\n",
    "> 2,point2"
   ]
  },
  {
   "cell_type": "markdown",
   "metadata": {},
   "source": [
    "* []option1\n",
    "* []option2\n",
    "* []option3"
   ]
  },
  {
   "cell_type": "markdown",
   "metadata": {},
   "source": [
    "\n",
    "* Google Site --[1]:https://sites.google.com/view/gitam-221810308051-july-2019/home\n",
    "* msn site --[2]:  https://www.msn.com\n",
    "* []option 1\n",
    "* google  site -- [google][1]\n",
    "[1]: https://www.google.com\n"
   ]
  },
  {
   "cell_type": "markdown",
   "metadata": {},
   "source": [
    "### Python Basics\n",
    "* Python version 3.7\n",
    "- Functional Programming\n",
    "- Object oriented Programming\n",
    "- scripting Programming"
   ]
  },
  {
   "cell_type": "code",
   "execution_count": 29,
   "metadata": {
    "scrolled": true
   },
   "outputs": [
    {
     "name": "stdout",
     "output_type": "stream",
     "text": [
      "hello,Gitam, ||| Hydearabad ||| Python Programming\n"
     ]
    }
   ],
   "source": [
    "print(\"hello,Gitam,\",\"|||\",end=\" \")\n",
    "print(\"Hydearabad\",end=\" ||| \")\n",
    "print(\"Python Programming\")"
   ]
  },
  {
   "cell_type": "markdown",
   "metadata": {},
   "source": [
    "# Assignment\n"
   ]
  },
  {
   "cell_type": "code",
   "execution_count": 30,
   "metadata": {},
   "outputs": [
    {
     "name": "stdout",
     "output_type": "stream",
     "text": [
      "100\n",
      "20 20 20\n",
      "11 22 33\n"
     ]
    }
   ],
   "source": [
    "n1  = 100\n",
    "a=b=c=20\n",
    "a1,a2,a3=11,22,33\n",
    "print(n1)\n",
    "print(a,b,c)\n",
    "print(a1,a2,a3)"
   ]
  },
  {
   "cell_type": "markdown",
   "metadata": {},
   "source": [
    "### Data type and Conversions"
   ]
  },
  {
   "cell_type": "code",
   "execution_count": 31,
   "metadata": {},
   "outputs": [
    {
     "name": "stdout",
     "output_type": "stream",
     "text": [
      "100 Python P 10.2\n",
      "<class 'int'>\n",
      "<class 'str'>\n",
      "<class 'str'>\n",
      "<class 'float'>\n"
     ]
    }
   ],
   "source": [
    "a=100;\n",
    "s1=\"Python\"\n",
    "s2='P'\n",
    "f1=10.2\n",
    "print(a,s1,s2,f1)\n",
    "print(type(a))\n",
    "print(type(s1))\n",
    "print(type(s2))\n",
    "print(type(f1))"
   ]
  },
  {
   "cell_type": "markdown",
   "metadata": {},
   "source": [
    "\n",
    "print(type(i))\n",
    "s1=str(i)\n",
    "print(type(s1))\n",
    "f1=float(i)\n",
    "print(type(f1))\n",
    "i=100"
   ]
  },
  {
   "cell_type": "code",
   "execution_count": 44,
   "metadata": {},
   "outputs": [
    {
     "name": "stdout",
     "output_type": "stream",
     "text": [
      "<class 'int'>\n",
      "4\n",
      "<class 'str'>\n"
     ]
    }
   ],
   "source": [
    "a1=1234\n",
    "a=str(a1)\n",
    "print(type(a1))\n",
    "print(len(str(a1)))\n",
    "print(type(a))"
   ]
  },
  {
   "cell_type": "code",
   "execution_count": 54,
   "metadata": {},
   "outputs": [
    {
     "name": "stdout",
     "output_type": "stream",
     "text": [
      "enter your name\n",
      "a\n",
      "a is your name\n",
      "type something12\n",
      "12.0\n",
      "you enterd is a <class 'float'>\n"
     ]
    }
   ],
   "source": [
    "s1=input(\"enter your name\\n\")\n",
    "print(s1,\"is your name\" )\n",
    "a=float(input(\"type something\"))\n",
    "print(a)\n",
    "print(\"you enterd is a\",type(a))"
   ]
  },
  {
   "cell_type": "markdown",
   "metadata": {},
   "source": [
    "# Operators\n",
    "* Operators is asymbols is used to perform a specific kind of operations\n",
    "## Arithemetic operators\n",
    "* +\n",
    "* -\n",
    "* *\n",
    "* /\n",
    "* %\n",
    "* // \n",
    "* *\n",
    "*"
   ]
  },
  {
   "cell_type": "code",
   "execution_count": 79,
   "metadata": {},
   "outputs": [
    {
     "name": "stdout",
     "output_type": "stream",
     "text": [
      "1244\n",
      "1224\n",
      "12340\n",
      "123.4\n",
      "4\n",
      "123\n",
      "8187505353567209228244052427776\n"
     ]
    }
   ],
   "source": [
    "n1=1234\n",
    "print(n1+10) \n",
    "print(n1-10)\n",
    "print(n1*10) \n",
    "print(n1/10)\n",
    "print(n1%10)\n",
    "print(n1//10) \n",
    "print(n1**10)\n",
    "        "
   ]
  },
  {
   "cell_type": "markdown",
   "metadata": {},
   "source": [
    "### Precedence of the arth operators\n",
    "* parenthesis\n",
    "* power\n",
    "* multiplication\n",
    "* addition\n",
    "#### Left to Right"
   ]
  },
  {
   "cell_type": "code",
   "execution_count": 80,
   "metadata": {},
   "outputs": [
    {
     "name": "stdout",
     "output_type": "stream",
     "text": [
      "8.0\n"
     ]
    }
   ],
   "source": [
    "x=1+2**3/4+5\n",
    "print(x)"
   ]
  },
  {
   "cell_type": "markdown",
   "metadata": {},
   "source": [
    "## Relational Operators\n",
    "- ==\n",
    "- !=\n",
    "- Greater(>)\n",
    "- Less(<)\n",
    "- <=\n",
    "- .>="
   ]
  },
  {
   "cell_type": "markdown",
   "metadata": {},
   "source": [
    "a=10\n",
    "a1=a>30\n",
    "bet=(a>0)and(a<30)\n",
    "\n",
    "print(a1)\n",
    "print(a<20)\n",
    "print(bet)\n",
    "print((a>0)and(a<3))"
   ]
  },
  {
   "cell_type": "markdown",
   "metadata": {},
   "source": [
    "### Control flow Statements\n",
    "- Conditional Statements\n",
    "- Looping Statements\n",
    "\n",
    "#### if-else statements\n",
    "if<br>\n",
    "   boolen_condition:\n",
    "   <br>statements<br>\n",
    "   else<br>\n",
    "   statements"
   ]
  },
  {
   "cell_type": "code",
   "execution_count": 1,
   "metadata": {},
   "outputs": [
    {
     "name": "stdout",
     "output_type": "stream",
     "text": [
      "yes\n"
     ]
    }
   ],
   "source": [
    "n=10\n",
    "if n>5:\n",
    "    print(\"yes\")\n",
    "else:\n",
    "    print(\"no\")"
   ]
  }
 ],
 "metadata": {
  "kernelspec": {
   "display_name": "Python 3",
   "language": "python",
   "name": "python3"
  },
  "language_info": {
   "codemirror_mode": {
    "name": "ipython",
    "version": 3
   },
   "file_extension": ".py",
   "mimetype": "text/x-python",
   "name": "python",
   "nbconvert_exporter": "python",
   "pygments_lexer": "ipython3",
   "version": "3.7.3"
  }
 },
 "nbformat": 4,
 "nbformat_minor": 2
}
