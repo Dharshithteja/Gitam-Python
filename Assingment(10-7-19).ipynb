{
 "cells": [
  {
   "cell_type": "code",
   "execution_count": 23,
   "metadata": {},
   "outputs": [
    {
     "name": "stdout",
     "output_type": "stream",
     "text": [
      "Enter a number:5\n",
      "[3, 2, 1, 1, 0]\n"
     ]
    }
   ],
   "source": [
    "#1.fabbinoci in revers\n",
    "n = int(input(\"Enter a number:\"))\n",
    "f0=0\n",
    "f1=1\n",
    "k=1\n",
    "l=[]\n",
    "l.append(f0)\n",
    "l.append(f1)\n",
    "while k!=n-1:\n",
    "    f2=f1+f0\n",
    "    l.append(f2)\n",
    "    f0=f1\n",
    "    f1=f2\n",
    "    k=k+1\n",
    "l.reverse()\n",
    "print(l)"
   ]
  },
  {
   "cell_type": "code",
   "execution_count": null,
   "metadata": {},
   "outputs": [],
   "source": []
  },
  {
   "cell_type": "code",
   "execution_count": null,
   "metadata": {},
   "outputs": [],
   "source": [
    "#3. The program must accept two string values S1 and S2. The program must print the pattern as shown in the \n",
    "#Example Input/Output sections.\n",
    "s1=input(\"\")\n",
    "s2=input(\"\")\n",
    "if len(s1)>len(s2):\n",
    "    while(len(s1)!=len(s2)):\n",
    "        s2=s2+\"*\"\n",
    "        a=len(s2)\n",
    "if len(s1)<len(s2):\n",
    "    while(len(s1)!=len(s2)):\n",
    "        s1=s1+\"*\"\n",
    "        a=len(s1)\n",
    "for i in range(a):\n",
    "    print(s1[i],s2[i],\"\\n\")"
   ]
  },
  {
   "cell_type": "code",
   "execution_count": 27,
   "metadata": {},
   "outputs": [
    {
     "name": "stdout",
     "output_type": "stream",
     "text": [
      "Enter string:good\n",
      "good"
     ]
    }
   ],
   "source": [
    "#4 print the largest string in a given string\n",
    "n=input(\"Enter string:\")\n",
    "c1=0\n",
    "c2=0\n",
    "for i in range(len(n)):\n",
    "    if ord(n[i])==32:\n",
    "        spacePos=i\n",
    "for j in range(spacePos):\n",
    "    c1=c1+1\n",
    "for k in range(spacePos+1,len(n)):\n",
    "    c2=c2+1\n",
    "if c1>c2:\n",
    "    for m in range(c1):\n",
    "        print(n[m],end='')\n",
    "elif c2>c1:\n",
    "    for z in range(c1,len(n)):\n",
    "        print(n[z],end='')\n",
    "elif c2==c2:\n",
    "    for y in range(c1):\n",
    "        print(n[y],end='')\n",
    "  "
   ]
  },
  {
   "cell_type": "code",
   "execution_count": 29,
   "metadata": {},
   "outputs": [
    {
     "name": "stdout",
     "output_type": "stream",
     "text": [
      "TESTINGTEST"
     ]
    }
   ],
   "source": [
    "#5. Your program need to accept a string (alphanuermic) includes white spaces also. \n",
    "#The program must print the output in the following way.\n",
    "def wordUpperCase(s):\n",
    "    spaceCnt = 0\n",
    "    for x in range(len(s)):\n",
    "        if ord(s[x])==32:\n",
    "            spaceCnt += 1 #spaceCnt = spaceCnt + 1\n",
    "        if spaceCnt == 1:\n",
    "            if ord(s[x])>=65 and ord(s[x])<=90:\n",
    "                print(s[x],end=\"\")\n",
    "            elif ord(s[x])>=97 and ord(s[x]) <=122:\n",
    "                print(chr(ord(s[x])-32),end=\"\")\n",
    "        if spaceCnt ==2:\n",
    "            return\n",
    "wordUpperCase(\"application Testing\")\n",
    "wordUpperCase(\"anil Test app\")"
   ]
  },
  {
   "cell_type": "code",
   "execution_count": null,
   "metadata": {},
   "outputs": [],
   "source": [
    "#6. Nth term in Mixed Geometric Series:-\n"
   ]
  },
  {
   "cell_type": "code",
   "execution_count": null,
   "metadata": {},
   "outputs": [],
   "source": [
    "#7 The program must accept an integer N the input. \n",
    "#The program must print the desired pattern as shown in the Example Input/Output section.\n",
    "n=int(input(\"Enter a number:\"))\n",
    "k=0\n",
    "rev=0\n",
    "while(n>0):\n",
    "    dig=n%10\n",
    "    rev=rev*10+dig\n",
    "    n=n//10 \n",
    "n=rev\n",
    "temp = n\n",
    "while n!=0: \n",
    "    n=n//10\n",
    "    k=k+1\n",
    "    for j in range(k):\n",
    "        r=temp%10\n",
    "        for i in range(1,r+1):\n",
    "            print(\"*\",end=\" \")\n",
    "        print(\"\\n\")\n",
    "        temp=temp//10\n",
    "  "
   ]
  },
  {
   "cell_type": "code",
   "execution_count": null,
   "metadata": {},
   "outputs": [],
   "source": [
    "#8Your Program has to read one string as well as one character and\n",
    "#you need to remove the all the occurance of the character.\n",
    "s=input(\"Enter string:\")\n",
    "n=input(\"Enter removing charcter:\")\n",
    "for i in range(len(s)):\n",
    "    if s[i]==n:\n",
    "        s.replace(n,'')\n",
    "    else:\n",
    "        print(s[i],end='')"
   ]
  },
  {
   "cell_type": "code",
   "execution_count": null,
   "metadata": {},
   "outputs": [],
   "source": [
    "#9 Your Program need to accept two strings and generate the output in merging of both strings.\n",
    "s1=(input(\"Enter string s1:\"))\n",
    "s2=(input(\"Enter string s2:\"))\n",
    "if len(s1)==len(s2):\n",
    "    for i in range(len(s1)):\n",
    "        print(s1[i],end=\"\")\n",
    "        print(s2[i],end=\"\")\n",
    "elif len(s1)>len(s2):\n",
    "    for i in range(len(s2)):\n",
    "        print(s1[i],end=\"\")\n",
    "        print(s2[i],end=\"\")\n",
    "    for k in range (i+1,len(s1)):\n",
    "        print(s1[k],end=\"\")\n",
    "elif len(s1)<len(s2):\n",
    "    for i in range(len(s1)):\n",
    "        print(s1[i],end=\"\")\n",
    "        print(s2[i],end=\"\")\n",
    "    for k in range (i+1,len(s2)):\n",
    "        print(s2[k],end=\"\")"
   ]
  },
  {
   "cell_type": "code",
   "execution_count": null,
   "metadata": {},
   "outputs": [],
   "source": [
    "#10.Series Generations:-  1, 3, 9, 27, 81, ...\n",
    "n=int(input(\"Enter n\"))\n",
    "for i in range(0,n):\n",
    "    print(3**i,end=' ')"
   ]
  },
  {
   "cell_type": "code",
   "execution_count": null,
   "metadata": {},
   "outputs": [],
   "source": [
    "#11.Series Generations:-  1, 2, 4, 8, 16, 32, 64, 128, 256, ...\n",
    "n=int(input(\"Enter n\"))\n",
    "for i in range(0,n):\n",
    "    print(2**i,end=' ')\n"
   ]
  },
  {
   "cell_type": "code",
   "execution_count": null,
   "metadata": {},
   "outputs": [],
   "source": [
    "#12.Series Generations:-  1 3 8 15 27 50 92 169 311\n",
    "n=int(input())\n",
    "a=1\n",
    "b=3\n",
    "c=4\n",
    "print(a,b,end=\" \")\n",
    "for i in range(4,n+2):\n",
    "    sum = a+b+c\n",
    "    print(sum,end=\" \")\n",
    "    a = b\n",
    "    b = c\n",
    "    c = sum"
   ]
  },
  {
   "cell_type": "code",
   "execution_count": null,
   "metadata": {},
   "outputs": [],
   "source": [
    "#13. Series Generations:-  2 15 41 80 132 197 275 366 470 587\n",
    "k=int(input(\"Enter k\"))\n",
    "n=2\n",
    "for i in range(0,k):\n",
    "    sum=n+13*i\n",
    "    print(sum,end=' ')\n",
    "    n=sum"
   ]
  },
  {
   "cell_type": "code",
   "execution_count": null,
   "metadata": {},
   "outputs": [],
   "source": [
    "#14.Series Generations:-  1! + 2! + 3! + 4! + 5! + ... + n!\n",
    "def fact(n):\n",
    "    f=1\n",
    "    i=1\n",
    "    while(n+1!=i):\n",
    "        f=f*i\n",
    "        i=i+1\n",
    "    return f\n",
    "fact(5)\n",
    "sum=0\n",
    "n=int(input())\n",
    "for i in range(1,n-1):\n",
    "    print(i,\"! +\",end=\" \")\n",
    "print(i+1,\"!\")\n",
    "print(\"\\n\")\n",
    "for i in range(1,n-1):\n",
    "    print(fact(i),\"+\",end=\" \")\n",
    "print(fact(i+1))"
   ]
  },
  {
   "cell_type": "code",
   "execution_count": 22,
   "metadata": {},
   "outputs": [
    {
     "name": "stdout",
     "output_type": "stream",
     "text": [
      "6\n",
      "9 17 33 49 73 97 "
     ]
    }
   ],
   "source": [
    "# 15. Series Generations:-  1,9,17, 33,49,73,97\n",
    "k=1\n",
    "su=0\n",
    "no=1\n",
    "n=int(input())\n",
    "x=n//2+1\n",
    "for i in range (1,x):\n",
    "    su=no+8*k\n",
    "    print(su,end=\" \")\n",
    "    no=su\n",
    "    su=no+8*k\n",
    "    print(su,end=\" \")\n",
    "    no=su\n",
    "    k=k+1"
   ]
  },
  {
   "cell_type": "code",
   "execution_count": null,
   "metadata": {},
   "outputs": [],
   "source": []
  },
  {
   "cell_type": "code",
   "execution_count": 1,
   "metadata": {},
   "outputs": [
    {
     "ename": "SyntaxError",
     "evalue": "invalid syntax (<ipython-input-1-d8f9b788bae6>, line 13)",
     "output_type": "error",
     "traceback": [
      "\u001b[1;36m  File \u001b[1;32m\"<ipython-input-1-d8f9b788bae6>\"\u001b[1;36m, line \u001b[1;32m13\u001b[0m\n\u001b[1;33m    return\u001b[0m\n\u001b[1;37m         ^\u001b[0m\n\u001b[1;31mSyntaxError\u001b[0m\u001b[1;31m:\u001b[0m invalid syntax\n"
     ]
    }
   ],
   "source": [
    "#1.fabbinoci in revers\n",
    "def fabnocci(n):\n",
    "    f0=0\n",
    "    f1=1\n",
    "    st=[]\n",
    "    st.append(f0)\n",
    "    st.append(f1)\n",
    "    for i in range(1,n-1):\n",
    "        f2=f1+f0\n",
    "        f0=f1\n",
    "        f1=f2\n",
    "        st.append[(f2)\n",
    "    return\n",
    "    \n",
    "fabnocci(12)"
   ]
  },
  {
   "cell_type": "code",
   "execution_count": null,
   "metadata": {},
   "outputs": [],
   "source": []
  }
 ],
 "metadata": {
  "kernelspec": {
   "display_name": "Python 3",
   "language": "python",
   "name": "python3"
  },
  "language_info": {
   "codemirror_mode": {
    "name": "ipython",
    "version": 3
   },
   "file_extension": ".py",
   "mimetype": "text/x-python",
   "name": "python",
   "nbconvert_exporter": "python",
   "pygments_lexer": "ipython3",
   "version": "3.7.3"
  }
 },
 "nbformat": 4,
 "nbformat_minor": 2
}
