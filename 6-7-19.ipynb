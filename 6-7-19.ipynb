{
 "cells": [
  {
   "cell_type": "code",
   "execution_count": 2,
   "metadata": {},
   "outputs": [
    {
     "name": "stdout",
     "output_type": "stream",
     "text": [
      "enter first number1\n",
      "enter second no.3\n",
      "enter third no.2\n",
      "3 is largest\n"
     ]
    }
   ],
   "source": [
    "a1=int(input(\"enter first number\"))\n",
    "a2=int(input(\"enter second no.\"))\n",
    "a3=int(input(\"enter third no.\"))\n",
    "if a1>a2 and a2>a3:\n",
    "    print(a1,\"is largest\")\n",
    "elif a2>a1 and a2>a3:\n",
    "    print(a2,\"is largest\")\n",
    "else:\n",
    "    print(a3,\"is largest\")"
   ]
  },
  {
   "cell_type": "code",
   "execution_count": 3,
   "metadata": {},
   "outputs": [
    {
     "name": "stdout",
     "output_type": "stream",
     "text": [
      "enter the year2000\n",
      "2000  is a leap year\n"
     ]
    }
   ],
   "source": [
    "# check if  a year is leap year or not\n",
    "year =int(input(\"enter the year\"))\n",
    "if year%400==0 or (year%100!=0 and year%4==0):\n",
    "    print(year,\" is a leap year\")\n",
    "else:\n",
    "    print(year, \" is not a leap  year\")"
   ]
  },
  {
   "cell_type": "markdown",
   "metadata": {},
   "source": [
    "\n",
    "### Iteration\n",
    "* While\n",
    "* For\n"
   ]
  },
  {
   "cell_type": "code",
   "execution_count": 4,
   "metadata": {},
   "outputs": [
    {
     "name": "stdout",
     "output_type": "stream",
     "text": [
      "enter  no. of times5\n",
      "enter the textdhar\n",
      "dhar\n",
      "dhar\n",
      "dhar\n",
      "dhar\n",
      "dhar\n"
     ]
    }
   ],
   "source": [
    "i=0\n",
    "n=int(input(\"enter  no. of times\"))\n",
    "a=str(input(\"enter the text\"))\n",
    "while  i<n:\n",
    "    print(a)\n",
    "    i=i+1"
   ]
  },
  {
   "cell_type": "code",
   "execution_count": 5,
   "metadata": {},
   "outputs": [
    {
     "name": "stdout",
     "output_type": "stream",
     "text": [
      "enter n10\n",
      "1  2  3  4  5  6  7  8  9  10  "
     ]
    }
   ],
   "source": [
    "i=1\n",
    "n=int(input(\"enter n\"))\n",
    "while i<n+1:\n",
    "    print(i,end =\"  \" )\n",
    "    i=i+1"
   ]
  },
  {
   "cell_type": "code",
   "execution_count": 6,
   "metadata": {},
   "outputs": [
    {
     "name": "stdout",
     "output_type": "stream",
     "text": [
      "enter n8\n",
      "the even numbers are\n",
      "0 2 4 6 8 \n",
      "the sum is 20\n"
     ]
    }
   ],
   "source": [
    "i=0\n",
    "sum=0\n",
    "n=int(input(\"enter n\"))\n",
    "print(\"the even numbers are\")\n",
    "while i<=n:\n",
    "    print(i,end =\" \")\n",
    "    sum=sum+i\n",
    "    i=i+2\n",
    "print(\"\\nthe sum is\",sum)"
   ]
  },
  {
   "cell_type": "code",
   "execution_count": 7,
   "metadata": {},
   "outputs": [
    {
     "name": "stdout",
     "output_type": "stream",
     "text": [
      "enter the n12343\n",
      "3 4 3 2 1 "
     ]
    }
   ],
   "source": [
    "n=int(input(\"enter the n\"))\n",
    "p=n\n",
    "while p>0:\n",
    "    print(p%10,end = \" \")\n",
    "    p=p//10"
   ]
  },
  {
   "cell_type": "code",
   "execution_count": 8,
   "metadata": {},
   "outputs": [
    {
     "name": "stdout",
     "output_type": "stream",
     "text": [
      "enter the n234\n",
      "sum is  6\n"
     ]
    }
   ],
   "source": [
    "sum=0\n",
    "n=int(input(\"enter the n\"))\n",
    "p=n\n",
    "while p>0:\n",
    "    if (p%10)%2==0:\n",
    "        sum=sum+(p%10)\n",
    "        \n",
    "    p=p//10\n",
    "print(\"sum is \",sum)"
   ]
  },
  {
   "cell_type": "code",
   "execution_count": 1,
   "metadata": {},
   "outputs": [
    {
     "name": "stdout",
     "output_type": "stream",
     "text": [
      "Enter a number : 1234\n",
      "6\n"
     ]
    }
   ],
   "source": [
    "# Read a number -- 1234 \n",
    "# Output -- 6 (2+4)\n",
    "def addEvenDigits(n) :\n",
    "    # Statements to compute the output of the program \n",
    "    sum = 0\n",
    "    while n > 0 : \n",
    "        r = n % 10\n",
    "        if r %2 == 0 :\n",
    "            sum += r\n",
    "        n //= 10\n",
    "    print(sum)\n",
    "    return\n",
    "\n",
    "def main () :\n",
    "    # Statements to compute the output \n",
    "    n = int(input(\"Enter a number : \"))\n",
    "    addEvenDigits(n)\n",
    "\n",
    "if __name__ == \"__main__\":\n",
    "    main()"
   ]
  },
  {
   "cell_type": "code",
   "execution_count": 2,
   "metadata": {},
   "outputs": [
    {
     "name": "stdout",
     "output_type": "stream",
     "text": [
      "200\n"
     ]
    }
   ],
   "source": [
    "x = True \n",
    "if x and False :\n",
    "    print(\"100\")\n",
    "else :\n",
    "    print(\"200\")"
   ]
  },
  {
   "cell_type": "code",
   "execution_count": 3,
   "metadata": {},
   "outputs": [
    {
     "name": "stdout",
     "output_type": "stream",
     "text": [
      "Enter a number : 19528\n",
      "9\n"
     ]
    }
   ],
   "source": [
    "# Read a number -- 19528\n",
    "# Print the large digit print the  number\n",
    "def printLarge(n):\n",
    "    # Program to achieve the given task\n",
    "    large = 0\n",
    "    while n > 0:\n",
    "        r = n % 10\n",
    "        if r > large:\n",
    "            large = r\n",
    "        n //= 10\n",
    "    print(large)\n",
    "\n",
    "def main() :\n",
    "    n = int(input(\"Enter a number : \"))\n",
    "    printLarge(n)\n",
    "\n",
    "if __name__ == \"__main__\":\n",
    "    main()"
   ]
  },
  {
   "cell_type": "code",
   "execution_count": 4,
   "metadata": {},
   "outputs": [
    {
     "name": "stdout",
     "output_type": "stream",
     "text": [
      "Enter a number : 123\n",
      "321"
     ]
    }
   ],
   "source": [
    "# Read a number input \n",
    "# Output reverse of the given number\n",
    "# 123 -- 321\n",
    "def reversenumber(n):\n",
    "    while n > 0 :\n",
    "        r = n % 10\n",
    "        print(r,end=\"\")\n",
    "        n = n//10\n",
    "    return\n",
    "\n",
    "def main() :\n",
    "    n = int(input(\"Enter a number : \"))\n",
    "    reversenumber(n)\n",
    "\n",
    "if __name__ == \"__main__\":\n",
    "    main()"
   ]
  },
  {
   "cell_type": "code",
   "execution_count": 5,
   "metadata": {},
   "outputs": [
    {
     "name": "stdout",
     "output_type": "stream",
     "text": [
      "Enter a number : 123\n",
      "'No'\n"
     ]
    }
   ],
   "source": [
    "# Given number is palindrome or not \n",
    "# input \n",
    "# 123 -- 321 -- No\n",
    "# 121 -- 121 -- Yes\n",
    "def isPalindrome(n):\n",
    "    rev = 0\n",
    "    while n > 0 : \n",
    "        r = n % 10\n",
    "        rev = rev * 10 + r\n",
    "        n //= 10\n",
    "    return rev\n",
    "\n",
    "def main():\n",
    "    n = int(input(\"Enter a number : \"))\n",
    "    temp= isPalindrome(n)\n",
    "    if (int(temp)==n):\n",
    "        print(\"'Yes'\")\n",
    "    else :\n",
    "        print(\"'No'\")\n",
    "\n",
    "if __name__ == \"__main__\" :\n",
    "    main()"
   ]
  },
  {
   "cell_type": "code",
   "execution_count": 6,
   "metadata": {},
   "outputs": [
    {
     "name": "stdout",
     "output_type": "stream",
     "text": [
      "1 2 3 4 5 6 7 8 9 10 "
     ]
    }
   ],
   "source": [
    "# Function to print N natural numbers with for loop\n",
    "def printNaturalNumbers(n) :\n",
    "    for x in range (1,n+1):\n",
    "        print(x,end=\" \")\n",
    "printNaturalNumbers(10)"
   ]
  },
  {
   "cell_type": "code",
   "execution_count": 7,
   "metadata": {},
   "outputs": [
    {
     "name": "stdout",
     "output_type": "stream",
     "text": [
      "11 12 13 14 15 16 17 18 19 20 21 22 23 24 25 "
     ]
    }
   ],
   "source": [
    "# Function to print the numbers between two limits \n",
    "# input : 11, 25\n",
    "# Output : 11, 12, 13, .............., 25\n",
    "def printSeries (lb,ub):\n",
    "    for x in range (lb,ub+1):\n",
    "        print(x,end= \" \")\n",
    "    return\n",
    "printSeries(11,25)"
   ]
  },
  {
   "cell_type": "code",
   "execution_count": 8,
   "metadata": {},
   "outputs": [
    {
     "name": "stdout",
     "output_type": "stream",
     "text": [
      "100 104 108 112 116 120 124 128 132 136 140 144 148 "
     ]
    }
   ],
   "source": [
    "# Function to print alternate numbers\n",
    "# [500,520] -- 500 502 504 506 508 .... 520\n",
    "# [100,150] -- 100 104 108 112 116 .... \n",
    "def alternateNumbers(lb,ub):\n",
    "    for x in range (lb,ub+1,4) :\n",
    "        print(x,end = \" \")\n",
    "    return\n",
    "alternateNumbers(100,150)"
   ]
  },
  {
   "cell_type": "code",
   "execution_count": 9,
   "metadata": {},
   "outputs": [
    {
     "name": "stdout",
     "output_type": "stream",
     "text": [
      "10 9 8 7 6 5 4 3 2 1 "
     ]
    }
   ],
   "source": [
    "# Function to print the series in reverse\n",
    "# Input -- 1,10...\n",
    "# Output -- 10 9 8 7 ...... 1\n",
    "def reverseRange(start, end) : \n",
    "    for x in range (end, start-1,-1):\n",
    "        print(x,end = \" \")\n",
    "    return\n",
    "reverseRange(1,10)"
   ]
  },
  {
   "cell_type": "markdown",
   "metadata": {},
   "source": [
    "\n",
    "## All Jupyter NoteBook in this Format\n",
    "* Problem Name\n",
    "* Algorithm\n",
    "* Sample Input and Oputput\n",
    "* Flowchart\n",
    "* python Code"
   ]
  },
  {
   "cell_type": "code",
   "execution_count": null,
   "metadata": {},
   "outputs": [],
   "source": []
  }
 ],
 "metadata": {
  "kernelspec": {
   "display_name": "Python 3",
   "language": "python",
   "name": "python3"
  },
  "language_info": {
   "codemirror_mode": {
    "name": "ipython",
    "version": 3
   },
   "file_extension": ".py",
   "mimetype": "text/x-python",
   "name": "python",
   "nbconvert_exporter": "python",
   "pygments_lexer": "ipython3",
   "version": "3.7.3"
  }
 },
 "nbformat": 4,
 "nbformat_minor": 2
}
