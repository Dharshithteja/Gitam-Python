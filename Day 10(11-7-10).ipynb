{
 "cells": [
  {
   "cell_type": "markdown",
   "metadata": {},
   "source": [
    "### standard libraries\n",
    "- file i/o\n",
    "- regular expression\n",
    "- datetime\n",
    "- math(numerical and mathametical)\n"
   ]
  },
  {
   "cell_type": "markdown",
   "metadata": {},
   "source": [
    "### File Handling in Python\n",
    "- File :- Document contaning information resides on the permanent storage\n",
    "- Different types of files :- txt,doc,pdf,csv and etc..\n",
    "- Input -- Keyboard\n",
    "- Output -- File\n",
    "### Modes of the File I/P\n",
    "- 'w' -- This mode is used to file writing\n",
    "\n",
    "-- If the file is not present first it creates the file and write some date to it\n"
   ]
  },
  {
   "cell_type": "code",
   "execution_count": 1,
   "metadata": {},
   "outputs": [
    {
     "name": "stdout",
     "output_type": "stream",
     "text": [
      "file is created and data has written\n"
     ]
    }
   ],
   "source": [
    "# Function to create a file and write to the  file\n",
    "def createfile(filename):\n",
    "    f = open(filename,'w')\n",
    "    for i in range(10):\n",
    "        f.write('this is %d line' % i)\n",
    "    print(\"file is created and data has written\")\n",
    "    return\n",
    "createfile('file1.txt')\n"
   ]
  },
  {
   "cell_type": "code",
   "execution_count": 2,
   "metadata": {},
   "outputs": [
    {
     "name": "stdout",
     "output_type": "stream",
     "text": [
      " Volume in drive C is OS\n",
      " Volume Serial Number is 8240-CF04\n",
      "\n",
      " Directory of C:\\Users\\Visitor\\python\n",
      "\n",
      "11-07-2019  09:36    <DIR>          .\n",
      "11-07-2019  09:36    <DIR>          ..\n",
      "11-07-2019  09:33    <DIR>          .ipynb_checkpoints\n",
      "05-07-2019  16:28             6,852 5 july 2019.ipynb\n",
      "05-07-2019  22:21             5,878 5.ipynb\n",
      "08-07-2019  09:32            10,027 6-7-19.ipynb\n",
      "09-07-2019  09:15            12,009 8-7-19.ipynb\n",
      "09-07-2019  17:11             6,199 Assignment(9-7-19).ipynb\n",
      "11-07-2019  09:34             8,696 Assingment(10-7-19).ipynb\n",
      "11-07-2019  09:35               616 Day 10(11-7-10).ipynb\n",
      "09-07-2019  16:35            19,721 Day 8(9-7-19).ipynb\n",
      "10-07-2019  15:46            13,425 Day 9(10-7-19).ipynb\n",
      "11-07-2019  09:36               140 file1.txt\n",
      "              10 File(s)         83,563 bytes\n",
      "               3 Dir(s)  108,177,276,928 bytes free\n"
     ]
    }
   ],
   "source": [
    "ls"
   ]
  },
  {
   "cell_type": "code",
   "execution_count": 3,
   "metadata": {},
   "outputs": [
    {
     "name": "stdout",
     "output_type": "stream",
     "text": [
      "file is created and data has written\n"
     ]
    }
   ],
   "source": [
    "def createfile(filename):\n",
    "    f = open(filename,'w')\n",
    "    f.write('Testing...\\n')\n",
    "    print(\"file is created and data has written\")\n",
    "    return\n",
    "createfile('file1.txt')"
   ]
  },
  {
   "cell_type": "code",
   "execution_count": 4,
   "metadata": {},
   "outputs": [
    {
     "name": "stdout",
     "output_type": "stream",
     "text": [
      " Volume in drive C is OS\n",
      " Volume Serial Number is 8240-CF04\n",
      "\n",
      " Directory of C:\\Users\\Visitor\\python\n",
      "\n",
      "11-07-2019  09:53    <DIR>          .\n",
      "11-07-2019  09:53    <DIR>          ..\n",
      "11-07-2019  09:33    <DIR>          .ipynb_checkpoints\n",
      "05-07-2019  16:28             6,852 5 july 2019.ipynb\n",
      "05-07-2019  22:21             5,878 5.ipynb\n",
      "08-07-2019  09:32            10,027 6-7-19.ipynb\n",
      "09-07-2019  09:15            12,009 8-7-19.ipynb\n",
      "09-07-2019  17:11             6,199 Assignment(9-7-19).ipynb\n",
      "11-07-2019  09:52             6,921 Assingment(10-7-19).ipynb\n",
      "11-07-2019  09:53             3,465 Day 10(11-7-10).ipynb\n",
      "09-07-2019  16:35            19,721 Day 8(9-7-19).ipynb\n",
      "10-07-2019  15:46            13,425 Day 9(10-7-19).ipynb\n",
      "11-07-2019  09:54                12 file1.txt\n",
      "              10 File(s)         84,509 bytes\n",
      "               3 Dir(s)  108,165,607,424 bytes free\n"
     ]
    }
   ],
   "source": [
    "ls"
   ]
  },
  {
   "cell_type": "code",
   "execution_count": 5,
   "metadata": {},
   "outputs": [
    {
     "name": "stdout",
     "output_type": "stream",
     "text": [
      "file created\n"
     ]
    }
   ],
   "source": [
    "def appenddata(filename):\n",
    "    f=open(filename,'a')\n",
    "    for i in range(10):\n",
    "        f.write(\"this is %d line\\n\" % i)\n",
    "    print(\"file created\")\n",
    "    return\n",
    "appenddata('file2.txt')"
   ]
  },
  {
   "cell_type": "code",
   "execution_count": 6,
   "metadata": {},
   "outputs": [
    {
     "name": "stdout",
     "output_type": "stream",
     "text": [
      "File created\n"
     ]
    }
   ],
   "source": [
    "def appenddata(filename):\n",
    "    f=open(filename,'a')\n",
    "    f.write(\"New line 1\\n\")\n",
    "    f.write(\"New line 2\\n\")\n",
    "    print(\"File created\")\n",
    "    f.close()\n",
    "    return\n",
    "appenddata('file2.txt')"
   ]
  },
  {
   "cell_type": "code",
   "execution_count": 7,
   "metadata": {},
   "outputs": [
    {
     "name": "stdout",
     "output_type": "stream",
     "text": [
      "this is 0 line\n",
      "this is 1 line\n",
      "this is 2 line\n",
      "this is 3 line\n",
      "this is 4 line\n",
      "this is 5 line\n",
      "this is 6 line\n",
      "this is 7 line\n",
      "this is 8 line\n",
      "this is 9 line\n",
      "New line 1\n",
      "New line 2\n",
      "\n"
     ]
    }
   ],
   "source": [
    "# function to read data\n",
    "def readfile(filename):\n",
    "    f=open(filename,'r')\n",
    "    if f.mode=='r':\n",
    "        x=f.read()\n",
    "        print(x)\n",
    "    f.close()\n",
    "    return\n",
    "readfile('file2.txt')"
   ]
  },
  {
   "cell_type": "code",
   "execution_count": 8,
   "metadata": {},
   "outputs": [
    {
     "name": "stdout",
     "output_type": "stream",
     "text": [
      "Enter the file namedata.txt\n",
      "Enter the mode of the filea\n",
      "the data successfully written\n"
     ]
    }
   ],
   "source": [
    "def readfile2(filename,mode):\n",
    "    with open(filename,mode) as f:\n",
    "        if f.mode=='r':\n",
    "            data=f.read()\n",
    "            print(data)\n",
    "        elif f.mode=='a':\n",
    "            f.write('Data to the file')\n",
    "            print('the data successfully written')\n",
    "    f.close()\n",
    "    return\n",
    "filename=input('Enter the file name')\n",
    "mode=input('Enter the mode of the file')\n",
    "readfile2(filename,mode)"
   ]
  },
  {
   "cell_type": "code",
   "execution_count": 12,
   "metadata": {},
   "outputs": [
    {
     "name": "stdout",
     "output_type": "stream",
     "text": [
      "Enter the file name:file2.txt\n",
      "Enter the word:this\n"
     ]
    },
    {
     "data": {
      "text/plain": [
       "10"
      ]
     },
     "execution_count": 12,
     "metadata": {},
     "output_type": "execute_result"
    }
   ],
   "source": [
    "#Word Count Program\n",
    "def wordCount(filename,word):\n",
    "    with open(filename,'r') as f:\n",
    "        if f.mode == 'r':\n",
    "            x = f.read()#x in sting --if x is converted to list list.count(word)\n",
    "            li = x.split()#it splits the string with with spaces\n",
    "        cnt = li.count(word)\n",
    "        return cnt\n",
    "filename = input(\"Enter the file name:\")\n",
    "word = input(\"Enter the word:\")#which word count you need\n",
    "wordCount(filename,word)"
   ]
  },
  {
   "cell_type": "code",
   "execution_count": 15,
   "metadata": {},
   "outputs": [
    {
     "name": "stdout",
     "output_type": "stream",
     "text": [
      "enter the filename : file2.txt\n"
     ]
    },
    {
     "data": {
      "text/plain": [
       "172"
      ]
     },
     "execution_count": 15,
     "metadata": {},
     "output_type": "execute_result"
    }
   ],
   "source": [
    "# character count from the  given file\n",
    "def charcount(filename):\n",
    "    with open(filename,'r') as f:\n",
    "        if f.mode == 'r':\n",
    "            x=f.read()\n",
    "            li=list(x)\n",
    "    return len(li)\n",
    "filename=input('enter the filename : ')\n",
    "charcount(filename)"
   ]
  },
  {
   "cell_type": "code",
   "execution_count": 17,
   "metadata": {},
   "outputs": [
    {
     "name": "stdout",
     "output_type": "stream",
     "text": [
      "Enter the filename:file2.txt\n"
     ]
    },
    {
     "data": {
      "text/plain": [
       "12"
      ]
     },
     "execution_count": 17,
     "metadata": {},
     "output_type": "execute_result"
    }
   ],
   "source": [
    "# function to find the no of lines in the input file \n",
    "# Input -- file name (file2.txt)\n",
    "# output :no of lines (12)\n",
    "def linecount(filename):\n",
    "    with open(filename,'r') as f:\n",
    "        if f.mode=='r':\n",
    "            x=f.read()\n",
    "            li=x.split(\"\\n\")\n",
    "    return len(li)\n",
    "filename=input('Enter the filename:')\n",
    "linecount(filename)"
   ]
  },
  {
   "cell_type": "code",
   "execution_count": 18,
   "metadata": {},
   "outputs": [
    {
     "name": "stdout",
     "output_type": "stream",
     "text": [
      "Enter the filename:file2.txt\n"
     ]
    },
    {
     "data": {
      "text/plain": [
       "'Upper Case=2,Lower Case=112'"
      ]
     },
     "execution_count": 18,
     "metadata": {},
     "output_type": "execute_result"
    }
   ],
   "source": [
    "# Function to print upper and lower characters\n",
    "def casecount(filename):\n",
    "    cntu=0\n",
    "    cntl=0\n",
    "    with open(filename,'r') as f:\n",
    "        if f.mode=='r':\n",
    "            x=f.read()\n",
    "            li=list(x)\n",
    "    for i in li:\n",
    "        if i.isupper():\n",
    "            cntu+=1\n",
    "        elif i.islower():\n",
    "            cntl+=1\n",
    "    output='Upper Case={0},Lower Case={1}'.format(cntu,cntl)\n",
    "    return output\n",
    "filename=input('Enter the filename:')\n",
    "casecount(filename)"
   ]
  },
  {
   "cell_type": "markdown",
   "metadata": {},
   "source": [
    "## math,random,os\n",
    "* os package it contains the certain methods which work OS"
   ]
  },
  {
   "cell_type": "code",
   "execution_count": 19,
   "metadata": {},
   "outputs": [
    {
     "name": "stdout",
     "output_type": "stream",
     "text": [
      "C:\\Users\\Visitor\n"
     ]
    }
   ],
   "source": [
    "cd .."
   ]
  },
  {
   "cell_type": "code",
   "execution_count": 22,
   "metadata": {},
   "outputs": [
    {
     "name": "stdout",
     "output_type": "stream",
     "text": [
      " Volume in drive C is OS\n",
      " Volume Serial Number is 8240-CF04\n",
      "\n",
      " Directory of C:\\Users\\Visitor\n",
      "\n",
      "11-07-2019  07:59    <DIR>          .\n",
      "11-07-2019  07:59    <DIR>          ..\n",
      "05-07-2019  16:24    <DIR>          .anaconda\n",
      "05-07-2019  10:28             3,404 .bash_history\n",
      "06-07-2019  09:21    <DIR>          .conda\n",
      "06-07-2019  09:21                18 .condarc\n",
      "05-07-2019  11:46    <DIR>          .ipython\n",
      "05-07-2019  16:25    <DIR>          .jupyter\n",
      "29-06-2019  18:01    <DIR>          3D Objects\n",
      "05-07-2019  10:59    <DIR>          Anaconda3\n",
      "09-06-2019  20:29    <DIR>          ansel\n",
      "04-07-2019  10:07    <DIR>          chivas\n",
      "29-06-2019  18:01    <DIR>          Contacts\n",
      "05-07-2019  10:47    <DIR>          Desktop\n",
      "03-07-2019  10:15    <DIR>          Documents\n",
      "11-07-2019  10:23    <DIR>          Downloads\n",
      "29-06-2019  18:01    <DIR>          Favorites\n",
      "29-06-2019  18:01    <DIR>          Links\n",
      "29-06-2019  18:01    <DIR>          Music\n",
      "09-07-2019  09:07    <DIR>          OneDrive\n",
      "29-06-2019  18:01    <DIR>          Pictures\n",
      "11-07-2019  14:09    <DIR>          python\n",
      "01-03-2017  02:47    <DIR>          Roaming\n",
      "29-06-2019  18:01    <DIR>          Saved Games\n",
      "29-06-2019  18:01    <DIR>          Searches\n",
      "29-06-2019  18:01    <DIR>          Videos\n",
      "               2 File(s)          3,422 bytes\n",
      "              24 Dir(s)  106,735,980,544 bytes free\n"
     ]
    }
   ],
   "source": [
    "ls"
   ]
  },
  {
   "cell_type": "code",
   "execution_count": 23,
   "metadata": {},
   "outputs": [
    {
     "name": "stdout",
     "output_type": "stream",
     "text": [
      "C:\\Users\n"
     ]
    }
   ],
   "source": [
    "cd .."
   ]
  },
  {
   "cell_type": "code",
   "execution_count": 25,
   "metadata": {},
   "outputs": [
    {
     "name": "stdout",
     "output_type": "stream",
     "text": [
      "C:\\Users\\visitor\n"
     ]
    }
   ],
   "source": [
    "cd visitor"
   ]
  },
  {
   "cell_type": "markdown",
   "metadata": {},
   "source": [
    "## Listing all files in a directory"
   ]
  },
  {
   "cell_type": "code",
   "execution_count": 26,
   "metadata": {},
   "outputs": [
    {
     "name": "stdout",
     "output_type": "stream",
     "text": [
      " Volume in drive C is OS\n",
      " Volume Serial Number is 8240-CF04\n",
      "\n",
      " Directory of C:\\Users\\visitor\n",
      "\n",
      "11-07-2019  07:59    <DIR>          .\n",
      "11-07-2019  07:59    <DIR>          ..\n",
      "05-07-2019  16:24    <DIR>          .anaconda\n",
      "05-07-2019  10:28             3,404 .bash_history\n",
      "06-07-2019  09:21    <DIR>          .conda\n",
      "06-07-2019  09:21                18 .condarc\n",
      "05-07-2019  11:46    <DIR>          .ipython\n",
      "05-07-2019  16:25    <DIR>          .jupyter\n",
      "29-06-2019  18:01    <DIR>          3D Objects\n",
      "05-07-2019  10:59    <DIR>          Anaconda3\n",
      "09-06-2019  20:29    <DIR>          ansel\n",
      "04-07-2019  10:07    <DIR>          chivas\n",
      "29-06-2019  18:01    <DIR>          Contacts\n",
      "05-07-2019  10:47    <DIR>          Desktop\n",
      "03-07-2019  10:15    <DIR>          Documents\n",
      "11-07-2019  10:23    <DIR>          Downloads\n",
      "29-06-2019  18:01    <DIR>          Favorites\n",
      "29-06-2019  18:01    <DIR>          Links\n",
      "29-06-2019  18:01    <DIR>          Music\n",
      "09-07-2019  09:07    <DIR>          OneDrive\n",
      "29-06-2019  18:01    <DIR>          Pictures\n",
      "11-07-2019  14:15    <DIR>          python\n",
      "01-03-2017  02:47    <DIR>          Roaming\n",
      "29-06-2019  18:01    <DIR>          Saved Games\n",
      "29-06-2019  18:01    <DIR>          Searches\n",
      "29-06-2019  18:01    <DIR>          Videos\n",
      "               2 File(s)          3,422 bytes\n",
      "              24 Dir(s)  106,735,972,352 bytes free\n"
     ]
    }
   ],
   "source": [
    "ls"
   ]
  },
  {
   "cell_type": "code",
   "execution_count": 46,
   "metadata": {},
   "outputs": [
    {
     "name": "stdout",
     "output_type": "stream",
     "text": [
      "C:\\Users\\visitor\\Desktop\\problemsolvingandprograming\\git\n"
     ]
    }
   ],
   "source": [
    "cd git"
   ]
  },
  {
   "cell_type": "code",
   "execution_count": 49,
   "metadata": {},
   "outputs": [
    {
     "ename": "FileNotFoundError",
     "evalue": "[WinError 3] The system cannot find the path specified: 'Git/'",
     "output_type": "error",
     "traceback": [
      "\u001b[1;31m---------------------------------------------------------------------------\u001b[0m",
      "\u001b[1;31mFileNotFoundError\u001b[0m                         Traceback (most recent call last)",
      "\u001b[1;32m<ipython-input-49-62944e548d7b>\u001b[0m in \u001b[0;36m<module>\u001b[1;34m\u001b[0m\n\u001b[0;32m      1\u001b[0m \u001b[1;32mimport\u001b[0m \u001b[0mos\u001b[0m\u001b[1;33m\u001b[0m\u001b[1;33m\u001b[0m\u001b[0m\n\u001b[0;32m      2\u001b[0m \u001b[0mdirpath\u001b[0m\u001b[1;33m=\u001b[0m\u001b[1;34m\"Git/\"\u001b[0m\u001b[1;33m\u001b[0m\u001b[1;33m\u001b[0m\u001b[0m\n\u001b[1;32m----> 3\u001b[1;33m \u001b[1;32mfor\u001b[0m \u001b[0mi\u001b[0m \u001b[1;32min\u001b[0m \u001b[0mos\u001b[0m\u001b[1;33m.\u001b[0m\u001b[0mlistdir\u001b[0m\u001b[1;33m(\u001b[0m\u001b[0mdirpath\u001b[0m\u001b[1;33m)\u001b[0m\u001b[1;33m:\u001b[0m\u001b[1;33m\u001b[0m\u001b[1;33m\u001b[0m\u001b[0m\n\u001b[0m\u001b[0;32m      4\u001b[0m     \u001b[1;32mif\u001b[0m \u001b[0mos\u001b[0m\u001b[1;33m.\u001b[0m\u001b[0mpath\u001b[0m\u001b[1;33m.\u001b[0m\u001b[0misfile\u001b[0m\u001b[1;33m(\u001b[0m\u001b[0mos\u001b[0m\u001b[1;33m.\u001b[0m\u001b[0mpath\u001b[0m\u001b[1;33m.\u001b[0m\u001b[0mjoin\u001b[0m\u001b[1;33m(\u001b[0m\u001b[0mdirath\u001b[0m\u001b[1;33m,\u001b[0m\u001b[0mi\u001b[0m\u001b[1;33m)\u001b[0m\u001b[1;33m)\u001b[0m\u001b[1;33m:\u001b[0m\u001b[1;33m\u001b[0m\u001b[1;33m\u001b[0m\u001b[0m\n\u001b[0;32m      5\u001b[0m         \u001b[0mprint\u001b[0m\u001b[1;33m(\u001b[0m\u001b[0mi\u001b[0m\u001b[1;33m)\u001b[0m\u001b[1;33m\u001b[0m\u001b[1;33m\u001b[0m\u001b[0m\n",
      "\u001b[1;31mFileNotFoundError\u001b[0m: [WinError 3] The system cannot find the path specified: 'Git/'"
     ]
    }
   ],
   "source": [
    "import os\n",
    "dirpath=\"Git/\"\n",
    "for i in os.listdir(dirpath):\n",
    "    if os.path.isfile(os.path.join(dirath,i)):\n",
    "        print(i)"
   ]
  },
  {
   "cell_type": "code",
   "execution_count": 50,
   "metadata": {},
   "outputs": [
    {
     "name": "stdout",
     "output_type": "stream",
     "text": [
      " Volume in drive C is OS\n",
      " Volume Serial Number is 8240-CF04\n",
      "\n",
      " Directory of C:\\Users\\visitor\\Desktop\\problemsolvingandprograming\\git\n",
      "\n",
      "05-07-2019  09:48    <DIR>          .\n",
      "05-07-2019  09:48    <DIR>          ..\n",
      "05-07-2019  09:47                39 data.txt\n",
      "04-07-2019  12:24               190 file1.txt\n",
      "05-07-2019  09:48    <DIR>          Gitam-Python\n",
      "04-07-2019  14:56    <DIR>          wakandaforever\n",
      "               2 File(s)            229 bytes\n",
      "               4 Dir(s)  106,733,740,032 bytes free\n"
     ]
    }
   ],
   "source": [
    "ls"
   ]
  },
  {
   "cell_type": "code",
   "execution_count": 51,
   "metadata": {},
   "outputs": [
    {
     "name": "stdout",
     "output_type": "stream",
     "text": [
      "C:\\Users\\visitor\\Desktop\\problemsolvingandprograming\n"
     ]
    }
   ],
   "source": [
    "cd .."
   ]
  },
  {
   "cell_type": "code",
   "execution_count": 52,
   "metadata": {},
   "outputs": [
    {
     "ename": "NameError",
     "evalue": "name 'dirath' is not defined",
     "output_type": "error",
     "traceback": [
      "\u001b[1;31m---------------------------------------------------------------------------\u001b[0m",
      "\u001b[1;31mNameError\u001b[0m                                 Traceback (most recent call last)",
      "\u001b[1;32m<ipython-input-52-ab46d41c1717>\u001b[0m in \u001b[0;36m<module>\u001b[1;34m\u001b[0m\n\u001b[0;32m      2\u001b[0m \u001b[0mdirpath\u001b[0m\u001b[1;33m=\u001b[0m\u001b[1;34m\"git/\"\u001b[0m\u001b[1;33m\u001b[0m\u001b[1;33m\u001b[0m\u001b[0m\n\u001b[0;32m      3\u001b[0m \u001b[1;32mfor\u001b[0m \u001b[0mi\u001b[0m \u001b[1;32min\u001b[0m \u001b[0mos\u001b[0m\u001b[1;33m.\u001b[0m\u001b[0mlistdir\u001b[0m\u001b[1;33m(\u001b[0m\u001b[0mdirpath\u001b[0m\u001b[1;33m)\u001b[0m\u001b[1;33m:\u001b[0m\u001b[1;33m\u001b[0m\u001b[1;33m\u001b[0m\u001b[0m\n\u001b[1;32m----> 4\u001b[1;33m     \u001b[1;32mif\u001b[0m \u001b[0mos\u001b[0m\u001b[1;33m.\u001b[0m\u001b[0mpath\u001b[0m\u001b[1;33m.\u001b[0m\u001b[0misfile\u001b[0m\u001b[1;33m(\u001b[0m\u001b[0mos\u001b[0m\u001b[1;33m.\u001b[0m\u001b[0mpath\u001b[0m\u001b[1;33m.\u001b[0m\u001b[0mjoin\u001b[0m\u001b[1;33m(\u001b[0m\u001b[0mdirath\u001b[0m\u001b[1;33m,\u001b[0m\u001b[0mi\u001b[0m\u001b[1;33m)\u001b[0m\u001b[1;33m)\u001b[0m\u001b[1;33m:\u001b[0m\u001b[1;33m\u001b[0m\u001b[1;33m\u001b[0m\u001b[0m\n\u001b[0m\u001b[0;32m      5\u001b[0m         \u001b[0mprint\u001b[0m\u001b[1;33m(\u001b[0m\u001b[0mi\u001b[0m\u001b[1;33m)\u001b[0m\u001b[1;33m\u001b[0m\u001b[1;33m\u001b[0m\u001b[0m\n",
      "\u001b[1;31mNameError\u001b[0m: name 'dirath' is not defined"
     ]
    }
   ],
   "source": [
    "import os\n",
    "dirpath=\"git/\"\n",
    "for i in os.listdir(dirpath):\n",
    "    if os.path.isfile(os.path.join(dirath,i)):\n",
    "        print(i)"
   ]
  },
  {
   "cell_type": "code",
   "execution_count": 53,
   "metadata": {},
   "outputs": [
    {
     "name": "stdout",
     "output_type": "stream",
     "text": [
      "C:\\Users\\visitor\\Desktop\\problemsolvingandprograming\\git\n"
     ]
    }
   ],
   "source": [
    "cd git\n"
   ]
  },
  {
   "cell_type": "code",
   "execution_count": 54,
   "metadata": {},
   "outputs": [
    {
     "ename": "FileNotFoundError",
     "evalue": "[WinError 3] The system cannot find the path specified: 'git/'",
     "output_type": "error",
     "traceback": [
      "\u001b[1;31m---------------------------------------------------------------------------\u001b[0m",
      "\u001b[1;31mFileNotFoundError\u001b[0m                         Traceback (most recent call last)",
      "\u001b[1;32m<ipython-input-54-ab46d41c1717>\u001b[0m in \u001b[0;36m<module>\u001b[1;34m\u001b[0m\n\u001b[0;32m      1\u001b[0m \u001b[1;32mimport\u001b[0m \u001b[0mos\u001b[0m\u001b[1;33m\u001b[0m\u001b[1;33m\u001b[0m\u001b[0m\n\u001b[0;32m      2\u001b[0m \u001b[0mdirpath\u001b[0m\u001b[1;33m=\u001b[0m\u001b[1;34m\"git/\"\u001b[0m\u001b[1;33m\u001b[0m\u001b[1;33m\u001b[0m\u001b[0m\n\u001b[1;32m----> 3\u001b[1;33m \u001b[1;32mfor\u001b[0m \u001b[0mi\u001b[0m \u001b[1;32min\u001b[0m \u001b[0mos\u001b[0m\u001b[1;33m.\u001b[0m\u001b[0mlistdir\u001b[0m\u001b[1;33m(\u001b[0m\u001b[0mdirpath\u001b[0m\u001b[1;33m)\u001b[0m\u001b[1;33m:\u001b[0m\u001b[1;33m\u001b[0m\u001b[1;33m\u001b[0m\u001b[0m\n\u001b[0m\u001b[0;32m      4\u001b[0m     \u001b[1;32mif\u001b[0m \u001b[0mos\u001b[0m\u001b[1;33m.\u001b[0m\u001b[0mpath\u001b[0m\u001b[1;33m.\u001b[0m\u001b[0misfile\u001b[0m\u001b[1;33m(\u001b[0m\u001b[0mos\u001b[0m\u001b[1;33m.\u001b[0m\u001b[0mpath\u001b[0m\u001b[1;33m.\u001b[0m\u001b[0mjoin\u001b[0m\u001b[1;33m(\u001b[0m\u001b[0mdirath\u001b[0m\u001b[1;33m,\u001b[0m\u001b[0mi\u001b[0m\u001b[1;33m)\u001b[0m\u001b[1;33m)\u001b[0m\u001b[1;33m:\u001b[0m\u001b[1;33m\u001b[0m\u001b[1;33m\u001b[0m\u001b[0m\n\u001b[0;32m      5\u001b[0m         \u001b[0mprint\u001b[0m\u001b[1;33m(\u001b[0m\u001b[0mi\u001b[0m\u001b[1;33m)\u001b[0m\u001b[1;33m\u001b[0m\u001b[1;33m\u001b[0m\u001b[0m\n",
      "\u001b[1;31mFileNotFoundError\u001b[0m: [WinError 3] The system cannot find the path specified: 'git/'"
     ]
    }
   ],
   "source": [
    "import os\n",
    "dirpath=\"git/\"\n",
    "for i in os.listdir(dirpath):\n",
    "    if os.path.isfile(os.path.join(dirath,i)):\n",
    "        print(i)"
   ]
  },
  {
   "cell_type": "code",
   "execution_count": 55,
   "metadata": {},
   "outputs": [
    {
     "name": "stdout",
     "output_type": "stream",
     "text": [
      " Volume in drive C is OS\n",
      " Volume Serial Number is 8240-CF04\n",
      "\n",
      " Directory of C:\\Users\\visitor\\Desktop\\problemsolvingandprograming\\git\n",
      "\n",
      "05-07-2019  09:48    <DIR>          .\n",
      "05-07-2019  09:48    <DIR>          ..\n",
      "05-07-2019  09:47                39 data.txt\n",
      "04-07-2019  12:24               190 file1.txt\n",
      "05-07-2019  09:48    <DIR>          Gitam-Python\n",
      "04-07-2019  14:56    <DIR>          wakandaforever\n",
      "               2 File(s)            229 bytes\n",
      "               4 Dir(s)  106,733,735,936 bytes free\n"
     ]
    }
   ],
   "source": [
    "ls"
   ]
  },
  {
   "cell_type": "code",
   "execution_count": 56,
   "metadata": {},
   "outputs": [
    {
     "name": "stdout",
     "output_type": "stream",
     "text": [
      "C:\\Users\\visitor\\Desktop\\problemsolvingandprograming\n"
     ]
    }
   ],
   "source": [
    "cd .."
   ]
  },
  {
   "cell_type": "code",
   "execution_count": 57,
   "metadata": {},
   "outputs": [
    {
     "name": "stdout",
     "output_type": "stream",
     "text": [
      "data.txt\n",
      "file1.txt\n"
     ]
    }
   ],
   "source": [
    "import os\n",
    "dirpath=\"git/\"\n",
    "for i in os.listdir(dirpath):\n",
    "    if os.path.isfile(os.path.join(dirpath,i)):\n",
    "        print(i)"
   ]
  },
  {
   "cell_type": "code",
   "execution_count": 58,
   "metadata": {},
   "outputs": [
    {
     "name": "stdout",
     "output_type": "stream",
     "text": [
      " Volume in drive C is OS\n",
      " Volume Serial Number is 8240-CF04\n",
      "\n",
      " Directory of C:\\Users\\visitor\\Desktop\\problemsolvingandprograming\n",
      "\n",
      "04-07-2019  10:13    <DIR>          .\n",
      "04-07-2019  10:13    <DIR>          ..\n",
      "05-07-2019  09:48    <DIR>          git\n",
      "               0 File(s)              0 bytes\n",
      "               3 Dir(s)  106,733,793,280 bytes free\n"
     ]
    }
   ],
   "source": [
    "ls"
   ]
  },
  {
   "cell_type": "code",
   "execution_count": 59,
   "metadata": {},
   "outputs": [
    {
     "name": "stdout",
     "output_type": "stream",
     "text": [
      "C:\\Users\\visitor\\Desktop\n"
     ]
    }
   ],
   "source": [
    "cd ..\n"
   ]
  },
  {
   "cell_type": "code",
   "execution_count": 60,
   "metadata": {},
   "outputs": [
    {
     "name": "stdout",
     "output_type": "stream",
     "text": [
      " Volume in drive C is OS\n",
      " Volume Serial Number is 8240-CF04\n",
      "\n",
      " Directory of C:\\Users\\visitor\\Desktop\n",
      "\n",
      "05-07-2019  10:47    <DIR>          .\n",
      "05-07-2019  10:47    <DIR>          ..\n",
      "05-07-2019  09:31       693,800,272 Anaconda x64.exe\n",
      "05-02-2019  23:43           818,535 English PPT.pptx\n",
      "21-05-2019  13:58             1,417 Microsoft Edge.lnk\n",
      "04-07-2019  10:13    <DIR>          problemsolvingandprograming\n",
      "04-07-2019  09:36    <DIR>          RAP\n",
      "08-07-2019  11:48    <DIR>          Raptor\n",
      "05-07-2019  10:47    <DIR>          yo\n",
      "               3 File(s)    694,620,224 bytes\n",
      "               6 Dir(s)  106,733,449,216 bytes free\n"
     ]
    }
   ],
   "source": [
    "ls"
   ]
  },
  {
   "cell_type": "code",
   "execution_count": 61,
   "metadata": {},
   "outputs": [
    {
     "name": "stdout",
     "output_type": "stream",
     "text": [
      "C:\\Users\\visitor\\Desktop\\problemsolvingandprograming\n"
     ]
    }
   ],
   "source": [
    "cd problemsolvingandprograming"
   ]
  },
  {
   "cell_type": "code",
   "execution_count": 63,
   "metadata": {},
   "outputs": [
    {
     "name": "stdout",
     "output_type": "stream",
     "text": [
      "data.txt\n",
      "file1.txt\n"
     ]
    }
   ],
   "source": [
    "import os\n",
    "dirPath=\"git/\"\n",
    "for i in os.listdir(dirPath):\n",
    "    if os.path.isfile(os.path.join(dirPath,i)):\n",
    "        print(i)"
   ]
  },
  {
   "cell_type": "code",
   "execution_count": 66,
   "metadata": {},
   "outputs": [
    {
     "name": "stdout",
     "output_type": "stream",
     "text": [
      ".git\n",
      "Gitam-Python\n",
      "wakandaforever\n"
     ]
    }
   ],
   "source": [
    "from pathlib import Path\n",
    "dirPath=Path('Git')\n",
    "for i in dirPath.iterdir():\n",
    "    if i.is_dir():\n",
    "        print(i.name)"
   ]
  },
  {
   "cell_type": "markdown",
   "metadata": {},
   "source": [
    "### Creating a Single Directory"
   ]
  },
  {
   "cell_type": "code",
   "execution_count": 67,
   "metadata": {},
   "outputs": [],
   "source": [
    "import os\n",
    "os.mkdir('SingleDirectory')"
   ]
  },
  {
   "cell_type": "code",
   "execution_count": 69,
   "metadata": {},
   "outputs": [],
   "source": [
    "import pathlib\n",
    "p = pathlib.Path('TestFolder')\n",
    "p.mkdir()"
   ]
  },
  {
   "cell_type": "code",
   "execution_count": 72,
   "metadata": {},
   "outputs": [
    {
     "name": "stdout",
     "output_type": "stream",
     "text": [
      " Volume in drive C is OS\n",
      " Volume Serial Number is 8240-CF04\n",
      "\n",
      " Directory of C:\\Users\\visitor\\Desktop\\problemsolvingandprograming\n",
      "\n",
      "11-07-2019  14:49    <DIR>          .\n",
      "11-07-2019  14:49    <DIR>          ..\n",
      "05-07-2019  09:48    <DIR>          git\n",
      "11-07-2019  14:47    <DIR>          SingleDirectory\n",
      "11-07-2019  14:49    <DIR>          TestFolder\n",
      "               0 File(s)              0 bytes\n",
      "               5 Dir(s)  106,731,360,256 bytes free\n"
     ]
    }
   ],
   "source": [
    "ls"
   ]
  },
  {
   "cell_type": "markdown",
   "metadata": {},
   "source": [
    "## Filename Pattern Matching"
   ]
  },
  {
   "cell_type": "code",
   "execution_count": 74,
   "metadata": {},
   "outputs": [
    {
     "name": "stdout",
     "output_type": "stream",
     "text": [
      "C:\\Users\\visitor\\Desktop\n"
     ]
    }
   ],
   "source": [
    "cd .."
   ]
  },
  {
   "cell_type": "code",
   "execution_count": 75,
   "metadata": {},
   "outputs": [
    {
     "name": "stdout",
     "output_type": "stream",
     "text": [
      "C:\\Users\\visitor\\Desktop\\problemsolvingandprograming\n"
     ]
    }
   ],
   "source": [
    "cd problemsolvingandprograming"
   ]
  },
  {
   "cell_type": "code",
   "execution_count": 81,
   "metadata": {},
   "outputs": [],
   "source": [
    "import os\n",
    "dirPath='git/'\n",
    "for f_name in os.listdir(dirPath):\n",
    "    if f_name.endswith('.ipynb'):\n",
    "        print(f_name)"
   ]
  },
  {
   "cell_type": "code",
   "execution_count": 82,
   "metadata": {},
   "outputs": [
    {
     "name": "stdout",
     "output_type": "stream",
     "text": [
      " Volume in drive C is OS\n",
      " Volume Serial Number is 8240-CF04\n",
      "\n",
      " Directory of C:\\Users\\visitor\\Desktop\\problemsolvingandprograming\n",
      "\n",
      "11-07-2019  14:49    <DIR>          .\n",
      "11-07-2019  14:49    <DIR>          ..\n",
      "05-07-2019  09:48    <DIR>          git\n",
      "11-07-2019  14:47    <DIR>          SingleDirectory\n",
      "11-07-2019  14:49    <DIR>          TestFolder\n",
      "               0 File(s)              0 bytes\n",
      "               5 Dir(s)  106,726,260,736 bytes free\n"
     ]
    }
   ],
   "source": [
    "ls"
   ]
  },
  {
   "cell_type": "markdown",
   "metadata": {},
   "source": [
    "## Regular Expressions"
   ]
  },
  {
   "cell_type": "code",
   "execution_count": null,
   "metadata": {},
   "outputs": [],
   "source": []
  }
 ],
 "metadata": {
  "kernelspec": {
   "display_name": "Python 3",
   "language": "python",
   "name": "python3"
  },
  "language_info": {
   "codemirror_mode": {
    "name": "ipython",
    "version": 3
   },
   "file_extension": ".py",
   "mimetype": "text/x-python",
   "name": "python",
   "nbconvert_exporter": "python",
   "pygments_lexer": "ipython3",
   "version": "3.7.3"
  }
 },
 "nbformat": 4,
 "nbformat_minor": 2
}
